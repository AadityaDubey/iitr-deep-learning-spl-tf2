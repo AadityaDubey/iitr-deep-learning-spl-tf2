{
 "cells": [
  {
   "cell_type": "markdown",
   "metadata": {},
   "source": [
    "**Autoencoders and GANs**"
   ]
  },
  {
   "cell_type": "markdown",
   "metadata": {},
   "source": [
    "This notebook is inspired by https://github.com/ageron/handson-ml2"
   ]
  },
  {
   "cell_type": "markdown",
   "metadata": {},
   "source": [
    "# Setup"
   ]
  },
  {
   "cell_type": "markdown",
   "metadata": {},
   "source": [
    "First, let's import a few common modules, ensure MatplotLib plots figures inline and prepare a function to save the figures. We also check that Python 3.5 or later is installed (although Python 2.x may work, it is deprecated so we strongly recommend you use Python 3 instead), as well as Scikit-Learn ≥0.20 and TensorFlow ≥2.0."
   ]
  },
  {
   "cell_type": "code",
   "execution_count": 1,
   "metadata": {},
   "outputs": [
    {
     "name": "stdout",
     "output_type": "stream",
     "text": [
      "No GPU was detected. CNNs can be very slow without a GPU.\n"
     ]
    }
   ],
   "source": [
    "#This segment verifies the setup\n",
    "# Python ≥3.5 is required\n",
    "import sys\n",
    "assert sys.version_info >= (3, 5)\n",
    "\n",
    "# Scikit-Learn ≥0.20 is required\n",
    "import sklearn\n",
    "assert sklearn.__version__ >= \"0.20\"\n",
    "\n",
    "\n",
    "\n",
    "# TensorFlow ≥2.0 is required\n",
    "import tensorflow as tf\n",
    "from tensorflow import keras\n",
    "assert tf.__version__ >= \"2.0\"\n",
    "\n",
    "IS_COLAB=0\n",
    "if not tf.config.list_physical_devices('GPU'):\n",
    "    print(\"No GPU was detected. CNNs can be very slow without a GPU.\")\n",
    "    if IS_COLAB:\n",
    "        print(\"Go to Runtime > Change runtime and select a GPU hardware accelerator.\")\n",
    "\n",
    "# Common imports\n",
    "import numpy as np\n",
    "import os\n",
    "\n",
    "# to make this notebook's output stable across runs\n",
    "np.random.seed(42)\n",
    "tf.random.set_seed(42)\n",
    "\n",
    "# To plot pretty figures\n",
    "%matplotlib inline\n",
    "import matplotlib as mpl\n",
    "import matplotlib.pyplot as plt\n",
    "mpl.rc('axes', labelsize=14)\n",
    "mpl.rc('xtick', labelsize=12)\n",
    "mpl.rc('ytick', labelsize=12)\n",
    "\n",
    "# Where to save the figures\n",
    "PROJECT_ROOT_DIR = \".\"\n",
    "CHAPTER_ID = \"cnn\"\n",
    "IMAGES_PATH = os.path.join(PROJECT_ROOT_DIR, \"images\", CHAPTER_ID)\n",
    "os.makedirs(IMAGES_PATH, exist_ok=True)\n",
    "\n",
    "def save_fig(fig_id, tight_layout=True, fig_extension=\"png\", resolution=300):\n",
    "    path = os.path.join(IMAGES_PATH, fig_id + \".\" + fig_extension)\n",
    "    print(\"Saving figure\", fig_id)\n",
    "    if tight_layout:\n",
    "        plt.tight_layout()\n",
    "    plt.savefig(path, format=fig_extension, dpi=resolution)"
   ]
  },
  {
   "cell_type": "code",
   "execution_count": 12,
   "metadata": {},
   "outputs": [],
   "source": [
    "def plot_image(image):\n",
    "    plt.imshow(image, cmap=\"binary\")\n",
    "    plt.axis(\"off\")"
   ]
  },
  {
   "cell_type": "markdown",
   "metadata": {},
   "source": [
    "# PCA with a linear Autoencoder"
   ]
  },
  {
   "cell_type": "markdown",
   "metadata": {},
   "source": [
    "Build 3D dataset:"
   ]
  },
  {
   "cell_type": "code",
   "execution_count": 2,
   "metadata": {},
   "outputs": [],
   "source": [
    "np.random.seed(4)\n",
    "\n",
    "def generate_3d_data(m, w1=0.1, w2=0.3, noise=0.1):\n",
    "    angles = np.random.rand(m) * 3 * np.pi / 2 - 0.5\n",
    "    data = np.empty((m, 3))\n",
    "    data[:, 0] = np.cos(angles) + np.sin(angles)/2 + noise * np.random.randn(m) / 2\n",
    "    data[:, 1] = np.sin(angles) * 0.7 + noise * np.random.randn(m) / 2\n",
    "    data[:, 2] = data[:, 0] * w1 + data[:, 1] * w2 + noise * np.random.randn(m)\n",
    "    return data\n",
    "\n",
    "X_train = generate_3d_data(60)\n",
    "X_train = X_train - X_train.mean(axis=0, keepdims=0)"
   ]
  },
  {
   "cell_type": "code",
   "execution_count": 3,
   "metadata": {},
   "outputs": [],
   "source": [
    "np.random.seed(42)\n",
    "tf.random.set_seed(42)\n",
    "\n",
    "encoder = keras.models.Sequential([keras.layers.Dense(2, input_shape=[3])])\n",
    "decoder = keras.models.Sequential([keras.layers.Dense(3, input_shape=[2])])\n",
    "autoencoder = keras.models.Sequential([encoder, decoder])\n",
    "\n",
    "autoencoder.compile(loss=\"mse\", optimizer=keras.optimizers.SGD(lr=0.1))"
   ]
  },
  {
   "cell_type": "code",
   "execution_count": 4,
   "metadata": {},
   "outputs": [
    {
     "name": "stdout",
     "output_type": "stream",
     "text": [
      "Train on 60 samples\n",
      "Epoch 1/20\n",
      "60/60 [==============================] - 0s 6ms/sample - loss: 0.3039\n",
      "Epoch 2/20\n",
      "60/60 [==============================] - 0s 69us/sample - loss: 0.2834\n",
      "Epoch 3/20\n",
      "60/60 [==============================] - 0s 75us/sample - loss: 0.2667\n",
      "Epoch 4/20\n",
      "60/60 [==============================] - 0s 64us/sample - loss: 0.2513\n",
      "Epoch 5/20\n",
      "60/60 [==============================] - 0s 74us/sample - loss: 0.2373\n",
      "Epoch 6/20\n",
      "60/60 [==============================] - 0s 72us/sample - loss: 0.2232\n",
      "Epoch 7/20\n",
      "60/60 [==============================] - 0s 74us/sample - loss: 0.2101\n",
      "Epoch 8/20\n",
      "60/60 [==============================] - 0s 67us/sample - loss: 0.1986\n",
      "Epoch 9/20\n",
      "60/60 [==============================] - 0s 75us/sample - loss: 0.1839\n",
      "Epoch 10/20\n",
      "60/60 [==============================] - 0s 75us/sample - loss: 0.1719\n",
      "Epoch 11/20\n",
      "60/60 [==============================] - 0s 73us/sample - loss: 0.1603\n",
      "Epoch 12/20\n",
      "60/60 [==============================] - 0s 71us/sample - loss: 0.1498\n",
      "Epoch 13/20\n",
      "60/60 [==============================] - 0s 69us/sample - loss: 0.1394\n",
      "Epoch 14/20\n",
      "60/60 [==============================] - 0s 71us/sample - loss: 0.1302\n",
      "Epoch 15/20\n",
      "60/60 [==============================] - 0s 73us/sample - loss: 0.1213\n",
      "Epoch 16/20\n",
      "60/60 [==============================] - 0s 70us/sample - loss: 0.1129\n",
      "Epoch 17/20\n",
      "60/60 [==============================] - 0s 77us/sample - loss: 0.1061\n",
      "Epoch 18/20\n",
      "60/60 [==============================] - 0s 67us/sample - loss: 0.0989\n",
      "Epoch 19/20\n",
      "60/60 [==============================] - 0s 73us/sample - loss: 0.0931\n",
      "Epoch 20/20\n",
      "60/60 [==============================] - 0s 70us/sample - loss: 0.0875\n"
     ]
    }
   ],
   "source": [
    "history = autoencoder.fit(X_train, X_train, epochs=20)"
   ]
  },
  {
   "cell_type": "code",
   "execution_count": 5,
   "metadata": {},
   "outputs": [],
   "source": [
    "codings = encoder.predict(X_train)"
   ]
  },
  {
   "cell_type": "code",
   "execution_count": 6,
   "metadata": {},
   "outputs": [
    {
     "name": "stdout",
     "output_type": "stream",
     "text": [
      "Saving figure linear_autoencoder_pca_plot\n"
     ]
    },
    {
     "data": {
      "image/png": "[encoded data removed]",
      "text/plain": [
       "<Figure size 288x216 with 1 Axes>"
      ]
     },
     "metadata": {
      "needs_background": "light"
     },
     "output_type": "display_data"
    }
   ],
   "source": [
    "fig = plt.figure(figsize=(4,3))\n",
    "plt.plot(codings[:,0], codings[:, 1], \"b.\")\n",
    "plt.xlabel(\"$z_1$\", fontsize=18)\n",
    "plt.ylabel(\"$z_2$\", fontsize=18, rotation=0)\n",
    "plt.grid(True)\n",
    "save_fig(\"linear_autoencoder_pca_plot\")\n",
    "plt.show()"
   ]
  },
  {
   "cell_type": "markdown",
   "metadata": {},
   "source": [
    "# Stacked Autoencoders"
   ]
  },
  {
   "cell_type": "markdown",
   "metadata": {},
   "source": [
    "Let's use MNIST:"
   ]
  },
  {
   "cell_type": "code",
   "execution_count": 7,
   "metadata": {},
   "outputs": [
    {
     "name": "stdout",
     "output_type": "stream",
     "text": [
      "Downloading data from https://storage.googleapis.com/tensorflow/tf-keras-datasets/train-labels-idx1-ubyte.gz\n",
      "32768/29515 [=================================] - 0s 0us/step\n",
      "Downloading data from https://storage.googleapis.com/tensorflow/tf-keras-datasets/train-images-idx3-ubyte.gz\n",
      "26427392/26421880 [==============================] - 1s 0us/step\n",
      "Downloading data from https://storage.googleapis.com/tensorflow/tf-keras-datasets/t10k-labels-idx1-ubyte.gz\n",
      "8192/5148 [===============================================] - 0s 0us/step\n",
      "Downloading data from https://storage.googleapis.com/tensorflow/tf-keras-datasets/t10k-images-idx3-ubyte.gz\n",
      "4423680/4422102 [==============================] - 0s 0us/step\n"
     ]
    }
   ],
   "source": [
    "(X_train_full, y_train_full), (X_test, y_test) = keras.datasets.fashion_mnist.load_data()\n",
    "X_train_full = X_train_full.astype(np.float32) / 255\n",
    "X_test = X_test.astype(np.float32) / 255\n",
    "X_train, X_valid = X_train_full[:-5000], X_train_full[-5000:]\n",
    "y_train, y_valid = y_train_full[:-5000], y_train_full[-5000:]"
   ]
  },
  {
   "cell_type": "markdown",
   "metadata": {},
   "source": [
    "## Train all layers at once"
   ]
  },
  {
   "cell_type": "markdown",
   "metadata": {},
   "source": [
    "Let's build a stacked Autoencoder with 3 hidden layers and 1 output layer (i.e., 2 stacked Autoencoders)."
   ]
  },
  {
   "cell_type": "code",
   "execution_count": 8,
   "metadata": {},
   "outputs": [],
   "source": [
    "def rounded_accuracy(y_true, y_pred):\n",
    "    return keras.metrics.binary_accuracy(tf.round(y_true), tf.round(y_pred))"
   ]
  },
  {
   "cell_type": "code",
   "execution_count": 9,
   "metadata": {},
   "outputs": [
    {
     "name": "stdout",
     "output_type": "stream",
     "text": [
      "Train on 55000 samples, validate on 5000 samples\n",
      "Epoch 1/20\n",
      "55000/55000 [==============================] - 8s 150us/sample - loss: 0.3390 - rounded_accuracy: 0.8860 - val_loss: 0.3111 - val_rounded_accuracy: 0.9129\n",
      "Epoch 2/20\n",
      "55000/55000 [==============================] - 8s 142us/sample - loss: 0.3059 - rounded_accuracy: 0.9149 - val_loss: 0.3048 - val_rounded_accuracy: 0.9201\n",
      "Epoch 3/20\n",
      "55000/55000 [==============================] - 9s 157us/sample - loss: 0.2989 - rounded_accuracy: 0.9212 - val_loss: 0.3033 - val_rounded_accuracy: 0.9120\n",
      "Epoch 4/20\n",
      "55000/55000 [==============================] - 8s 148us/sample - loss: 0.2950 - rounded_accuracy: 0.9246 - val_loss: 0.2944 - val_rounded_accuracy: 0.9277\n",
      "Epoch 5/20\n",
      "55000/55000 [==============================] - 8s 143us/sample - loss: 0.2924 - rounded_accuracy: 0.9268 - val_loss: 0.2923 - val_rounded_accuracy: 0.9280\n",
      "Epoch 6/20\n",
      "55000/55000 [==============================] - 8s 143us/sample - loss: 0.2908 - rounded_accuracy: 0.9280 - val_loss: 0.2907 - val_rounded_accuracy: 0.9308\n",
      "Epoch 7/20\n",
      "55000/55000 [==============================] - 7s 125us/sample - loss: 0.2895 - rounded_accuracy: 0.9292 - val_loss: 0.2926 - val_rounded_accuracy: 0.9233\n",
      "Epoch 8/20\n",
      "55000/55000 [==============================] - 7s 131us/sample - loss: 0.2882 - rounded_accuracy: 0.9305 - val_loss: 0.2887 - val_rounded_accuracy: 0.9306\n",
      "Epoch 9/20\n",
      "55000/55000 [==============================] - 8s 144us/sample - loss: 0.2874 - rounded_accuracy: 0.9310 - val_loss: 0.2879 - val_rounded_accuracy: 0.9317\n",
      "Epoch 10/20\n",
      "55000/55000 [==============================] - 7s 123us/sample - loss: 0.2865 - rounded_accuracy: 0.9317 - val_loss: 0.2882 - val_rounded_accuracy: 0.9304\n",
      "Epoch 11/20\n",
      "55000/55000 [==============================] - 7s 122us/sample - loss: 0.2859 - rounded_accuracy: 0.9322 - val_loss: 0.2883 - val_rounded_accuracy: 0.9333\n",
      "Epoch 12/20\n",
      "55000/55000 [==============================] - 7s 123us/sample - loss: 0.2854 - rounded_accuracy: 0.9326 - val_loss: 0.2866 - val_rounded_accuracy: 0.9321\n",
      "Epoch 13/20\n",
      "55000/55000 [==============================] - 7s 126us/sample - loss: 0.2847 - rounded_accuracy: 0.9332 - val_loss: 0.2883 - val_rounded_accuracy: 0.9275\n",
      "Epoch 14/20\n",
      "55000/55000 [==============================] - 7s 124us/sample - loss: 0.2843 - rounded_accuracy: 0.9335 - val_loss: 0.2859 - val_rounded_accuracy: 0.9347\n",
      "Epoch 15/20\n",
      "55000/55000 [==============================] - 7s 123us/sample - loss: 0.2839 - rounded_accuracy: 0.9339 - val_loss: 0.2851 - val_rounded_accuracy: 0.9355\n",
      "Epoch 16/20\n",
      "55000/55000 [==============================] - 7s 123us/sample - loss: 0.2834 - rounded_accuracy: 0.9343 - val_loss: 0.2849 - val_rounded_accuracy: 0.9339\n",
      "Epoch 17/20\n",
      "55000/55000 [==============================] - 7s 123us/sample - loss: 0.2831 - rounded_accuracy: 0.9346 - val_loss: 0.2849 - val_rounded_accuracy: 0.9326\n",
      "Epoch 18/20\n",
      "55000/55000 [==============================] - 7s 123us/sample - loss: 0.2828 - rounded_accuracy: 0.9347 - val_loss: 0.2842 - val_rounded_accuracy: 0.9339\n",
      "Epoch 19/20\n",
      "55000/55000 [==============================] - 7s 122us/sample - loss: 0.2825 - rounded_accuracy: 0.9350 - val_loss: 0.2839 - val_rounded_accuracy: 0.9352\n",
      "Epoch 20/20\n",
      "55000/55000 [==============================] - 7s 123us/sample - loss: 0.2822 - rounded_accuracy: 0.9352 - val_loss: 0.2831 - val_rounded_accuracy: 0.9357\n"
     ]
    }
   ],
   "source": [
    "tf.random.set_seed(42)\n",
    "np.random.seed(42)\n",
    "\n",
    "stacked_encoder = keras.models.Sequential([\n",
    "    keras.layers.Flatten(input_shape=[28, 28]),\n",
    "    keras.layers.Dense(100, activation=\"selu\"),\n",
    "    keras.layers.Dense(30, activation=\"selu\"),\n",
    "])\n",
    "stacked_decoder = keras.models.Sequential([\n",
    "    keras.layers.Dense(100, activation=\"selu\", input_shape=[30]),\n",
    "    keras.layers.Dense(28 * 28, activation=\"sigmoid\"),\n",
    "    keras.layers.Reshape([28, 28])\n",
    "])\n",
    "stacked_ae = keras.models.Sequential([stacked_encoder, stacked_decoder])\n",
    "stacked_ae.compile(loss=\"binary_crossentropy\",\n",
    "                   optimizer=keras.optimizers.SGD(lr=1.5), metrics=[rounded_accuracy])\n",
    "history = stacked_ae.fit(X_train, X_train, epochs=20,\n",
    "                         validation_data=(X_valid, X_valid))"
   ]
  },
  {
   "cell_type": "markdown",
   "metadata": {},
   "source": [
    "This function processes a few test images through the autoencoder and displays the original images and their reconstructions:"
   ]
  },
  {
   "cell_type": "code",
   "execution_count": 10,
   "metadata": {},
   "outputs": [],
   "source": [
    "def show_reconstructions(model, images=X_valid, n_images=5):\n",
    "    reconstructions = model.predict(images[:n_images])\n",
    "    fig = plt.figure(figsize=(n_images * 1.5, 3))\n",
    "    for image_index in range(n_images):\n",
    "        plt.subplot(2, n_images, 1 + image_index)\n",
    "        plot_image(images[image_index])\n",
    "        plt.subplot(2, n_images, 1 + n_images + image_index)\n",
    "        plot_image(reconstructions[image_index])"
   ]
  },
  {
   "cell_type": "code",
   "execution_count": 13,
   "metadata": {},
   "outputs": [
    {
     "name": "stdout",
     "output_type": "stream",
     "text": [
      "Saving figure reconstruction_plot\n"
     ]
    },
    {
     "data": {
      "image/png": "[encoded data removed]",
      "text/plain": [
       "<Figure size 540x216 with 10 Axes>"
      ]
     },
     "metadata": {
      "needs_background": "light"
     },
     "output_type": "display_data"
    }
   ],
   "source": [
    "show_reconstructions(stacked_ae)\n",
    "save_fig(\"reconstruction_plot\")"
   ]
  },
  {
   "cell_type": "code",
   "execution_count": null,
   "metadata": {},
   "outputs": [],
   "source": []
  }
 ],
 "metadata": {
  "kernelspec": {
   "display_name": "tensorflow2",
   "language": "python",
   "name": "tensorflow2"
  },
  "language_info": {
   "codemirror_mode": {
    "name": "ipython",
    "version": 3
   },
   "file_extension": ".py",
   "mimetype": "text/x-python",
   "name": "python",
   "nbconvert_exporter": "python",
   "pygments_lexer": "ipython3",
   "version": "3.6.8"
  },
  "toc": {
   "base_numbering": 1,
   "nav_menu": {},
   "number_sections": true,
   "sideBar": true,
   "skip_h1_title": false,
   "title_cell": "Table of Contents",
   "title_sidebar": "Contents",
   "toc_cell": false,
   "toc_position": {},
   "toc_section_display": true,
   "toc_window_display": false
  }
 },
 "nbformat": 4,
 "nbformat_minor": 2
}
